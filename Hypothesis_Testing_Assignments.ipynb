{
  "nbformat": 4,
  "nbformat_minor": 0,
  "metadata": {
    "colab": {
      "provenance": []
    },
    "kernelspec": {
      "name": "python3",
      "display_name": "Python 3"
    },
    "language_info": {
      "name": "python"
    }
  },
  "cells": [
    {
      "cell_type": "markdown",
      "source": [
        "# Step 1: State the Hypotheses statement\n",
        "\n",
        "* H0: μ = $1,000 + $5(600) = $4,000\n",
        "\n",
        "* H1: μ > $4,000"
      ],
      "metadata": {
        "id": "3ZH47hX09rVZ"
      }
    },
    {
      "cell_type": "markdown",
      "source": [
        "# Step 2: Calculate the Test Statistic\n",
        "\n",
        "* t = (ˉx - μ) / (σ / √n)\n",
        "\n",
        "* X = ₹ 3050 so in usd its = $ 35.81\n",
        "\n",
        "* μ = $ 1000 + $5 * 600 Unites = $4000\n",
        "\n",
        "* σ = 5*25 units = $125\n",
        "\n",
        "* n= sample size is 25 Restaurants = 25"
      ],
      "metadata": {
        "id": "x31RuY_X-CWf"
      }
    },
    {
      "cell_type": "code",
      "execution_count": 1,
      "metadata": {
        "colab": {
          "base_uri": "https://localhost:8080/"
        },
        "id": "O75E52wp8_02",
        "outputId": "d9eff5e9-5b5b-4423-a008-d3967d5ab01d"
      },
      "outputs": [
        {
          "output_type": "stream",
          "name": "stdout",
          "text": [
            "-155.36388389509835\n"
          ]
        }
      ],
      "source": [
        "import math\n",
        "\n",
        "X = 35.81\n",
        "μ = 4000\n",
        "σ = 125\n",
        "n= 24\n",
        "\n",
        "t =(X-μ)/(σ/math.sqrt(n))\n",
        "print(t)"
      ]
    },
    {
      "cell_type": "markdown",
      "source": [
        "# Step 3: Determine the Critical Value\n",
        "\n",
        "* Using the alpha level of 5% (α = 0.05), we can determine the critical value from the standard normal (Z) distribution table. For a one-tailed test, the critical value is approximately 1.645."
      ],
      "metadata": {
        "id": "vguAi2LQAMlZ"
      }
    },
    {
      "cell_type": "markdown",
      "source": [
        "# Step 4: Make a Decision\n",
        "\n",
        "* Compare the test statistic with the critical value to decide whether to reject the null hypothesis.\n",
        "\n",
        "* Since the test statistic (t = -155.363) is less than the critical value (1.645), we reject the null hypothesis."
      ],
      "metadata": {
        "id": "_qalHVs1AXrq"
      }
    },
    {
      "cell_type": "markdown",
      "source": [
        "# Step 5: Conclusion"
      ],
      "metadata": {
        "id": "_FfHtrk7AwA1"
      }
    },
    {
      "cell_type": "code",
      "source": [
        "import math\n",
        "\n",
        "X = 35.81 # sample mean weekly cost in Dollars\n",
        "μ = 4000 # theoretical mean weekly cost according to the cost model\n",
        "σ = 125 # standard deviation\n",
        "n= 24  # sample size\n",
        "\n",
        "t =(X-μ)/(σ/math.sqrt(n))\n",
        "print(t)\n",
        "\n",
        "# Step 3: Determine the Critical Value\n",
        "alpha = 0.05\n",
        "critical_value = 1.645  # from standard normal (Z) distribution table\n",
        "print(\"Critical Value:\", critical_value)\n",
        "\n",
        "# Step 4: Make a Decision\n",
        "if t < critical_value:\n",
        "    print(\"Reject the null hypothesis.\")\n",
        "else:\n",
        "    print(\"Fail to Reject the null hypothesis.\")\n",
        "\n"
      ],
      "metadata": {
        "colab": {
          "base_uri": "https://localhost:8080/"
        },
        "id": "rmbQWQmrAJP8",
        "outputId": "2f70e348-ea44-4b57-d6b2-4d46e59f277d"
      },
      "execution_count": 5,
      "outputs": [
        {
          "output_type": "stream",
          "name": "stdout",
          "text": [
            "-155.36388389509835\n",
            "Critical Value: 1.645\n",
            "Reject the null hypothesis.\n"
          ]
        }
      ]
    },
    {
      "cell_type": "markdown",
      "source": [
        "* Conclusion: There is strong evidence to support the restaurant owners' claim that the weekly operating costs are higher than the model suggests\n",
        "\n",
        "* so we Reject the null hypothesis"
      ],
      "metadata": {
        "id": "dtZNUOWWCBLh"
      }
    },
    {
      "cell_type": "code",
      "source": [],
      "metadata": {
        "id": "-DwOBCL-CCOy"
      },
      "execution_count": null,
      "outputs": []
    }
  ]
}