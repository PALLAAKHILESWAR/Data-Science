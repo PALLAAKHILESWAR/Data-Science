{
  "nbformat": 4,
  "nbformat_minor": 0,
  "metadata": {
    "colab": {
      "provenance": []
    },
    "kernelspec": {
      "name": "python3",
      "display_name": "Python 3"
    },
    "language_info": {
      "name": "python"
    }
  },
  "cells": [
    {
      "cell_type": "markdown",
      "source": [
        "# Exercise 1: Prime Numbers"
      ],
      "metadata": {
        "id": "idvJpJJGshfX"
      }
    },
    {
      "cell_type": "code",
      "source": [
        "Number=int(input(\"Enter The number\"))\n",
        "if Number > 1:\n",
        "    for i in range(2, Number):\n",
        "        if (Number % i) == 0:\n",
        "            print(Number, \"is not a prime number\")\n",
        "            break\n",
        "    else:\n",
        "        print(Number, \"is a prime number\")"
      ],
      "metadata": {
        "colab": {
          "base_uri": "https://localhost:8080/"
        },
        "id": "bjXriJQBtz8F",
        "outputId": "5f751184-860f-4928-da7b-ef7b40b11cf5"
      },
      "execution_count": 1,
      "outputs": [
        {
          "output_type": "stream",
          "name": "stdout",
          "text": [
            "Enter The number13\n",
            "13 is a prime number\n"
          ]
        }
      ]
    },
    {
      "cell_type": "markdown",
      "source": [
        "# Exercise 2: Product of Random Numbers"
      ],
      "metadata": {
        "id": "wyMBk0DTuY0S"
      }
    },
    {
      "cell_type": "code",
      "source": [
        "import random\n",
        "\n",
        "input1=random.randint(1,20)\n",
        "input2=random.randint(1,20)\n",
        "\n",
        "userinput=int(input(f\"What is the product of {input1} and {input2}:\"))\n",
        "correct_answer=input1*input2\n",
        "\n",
        "if userinput==correct_answer:\n",
        "  print(\"Grate job! cottect answer\")\n",
        "else:\n",
        "  print(f\"Sorry it's Wrong answer The is the Correct answer {correct_answer}\")\n"
      ],
      "metadata": {
        "colab": {
          "base_uri": "https://localhost:8080/"
        },
        "id": "NqCYoqQ1t1o1",
        "outputId": "7e5ff45e-ce45-4c17-be68-c8e55b8a8ec1"
      },
      "execution_count": 2,
      "outputs": [
        {
          "output_type": "stream",
          "name": "stdout",
          "text": [
            "What is the product of 4 and 3:12\n",
            "Grate job! cottect answer\n"
          ]
        }
      ]
    },
    {
      "cell_type": "markdown",
      "source": [
        "#Squares of Even/Odd Numbers"
      ],
      "metadata": {
        "id": "bL5Y0ZPAzTGu"
      }
    },
    {
      "cell_type": "code",
      "source": [
        "for input in range(100,201):\n",
        "  if input % 2 == 0:\n",
        "    square = input ** 2\n",
        "    print(f\"The Square of 100 to 200 : {input} is {square}\")"
      ],
      "metadata": {
        "id": "vimnkY72wx1h",
        "colab": {
          "base_uri": "https://localhost:8080/"
        },
        "outputId": "e05480f0-6838-4e85-d5a7-06ff32cc5c5c"
      },
      "execution_count": 3,
      "outputs": [
        {
          "output_type": "stream",
          "name": "stdout",
          "text": [
            "The Square of 100 to 200 : 100 is 10000\n",
            "The Square of 100 to 200 : 102 is 10404\n",
            "The Square of 100 to 200 : 104 is 10816\n",
            "The Square of 100 to 200 : 106 is 11236\n",
            "The Square of 100 to 200 : 108 is 11664\n",
            "The Square of 100 to 200 : 110 is 12100\n",
            "The Square of 100 to 200 : 112 is 12544\n",
            "The Square of 100 to 200 : 114 is 12996\n",
            "The Square of 100 to 200 : 116 is 13456\n",
            "The Square of 100 to 200 : 118 is 13924\n",
            "The Square of 100 to 200 : 120 is 14400\n",
            "The Square of 100 to 200 : 122 is 14884\n",
            "The Square of 100 to 200 : 124 is 15376\n",
            "The Square of 100 to 200 : 126 is 15876\n",
            "The Square of 100 to 200 : 128 is 16384\n",
            "The Square of 100 to 200 : 130 is 16900\n",
            "The Square of 100 to 200 : 132 is 17424\n",
            "The Square of 100 to 200 : 134 is 17956\n",
            "The Square of 100 to 200 : 136 is 18496\n",
            "The Square of 100 to 200 : 138 is 19044\n",
            "The Square of 100 to 200 : 140 is 19600\n",
            "The Square of 100 to 200 : 142 is 20164\n",
            "The Square of 100 to 200 : 144 is 20736\n",
            "The Square of 100 to 200 : 146 is 21316\n",
            "The Square of 100 to 200 : 148 is 21904\n",
            "The Square of 100 to 200 : 150 is 22500\n",
            "The Square of 100 to 200 : 152 is 23104\n",
            "The Square of 100 to 200 : 154 is 23716\n",
            "The Square of 100 to 200 : 156 is 24336\n",
            "The Square of 100 to 200 : 158 is 24964\n",
            "The Square of 100 to 200 : 160 is 25600\n",
            "The Square of 100 to 200 : 162 is 26244\n",
            "The Square of 100 to 200 : 164 is 26896\n",
            "The Square of 100 to 200 : 166 is 27556\n",
            "The Square of 100 to 200 : 168 is 28224\n",
            "The Square of 100 to 200 : 170 is 28900\n",
            "The Square of 100 to 200 : 172 is 29584\n",
            "The Square of 100 to 200 : 174 is 30276\n",
            "The Square of 100 to 200 : 176 is 30976\n",
            "The Square of 100 to 200 : 178 is 31684\n",
            "The Square of 100 to 200 : 180 is 32400\n",
            "The Square of 100 to 200 : 182 is 33124\n",
            "The Square of 100 to 200 : 184 is 33856\n",
            "The Square of 100 to 200 : 186 is 34596\n",
            "The Square of 100 to 200 : 188 is 35344\n",
            "The Square of 100 to 200 : 190 is 36100\n",
            "The Square of 100 to 200 : 192 is 36864\n",
            "The Square of 100 to 200 : 194 is 37636\n",
            "The Square of 100 to 200 : 196 is 38416\n",
            "The Square of 100 to 200 : 198 is 39204\n",
            "The Square of 100 to 200 : 200 is 40000\n"
          ]
        }
      ]
    },
    {
      "cell_type": "markdown",
      "source": [
        "# Exercise 4: Word counter"
      ],
      "metadata": {
        "id": "B9Jw7vkk5HOk"
      }
    },
    {
      "cell_type": "code",
      "source": [
        "input_text = \"This is a sample text. This text will be used to demonstrate the word counter.\"\n",
        "\n",
        "word_count =input_text.split()\n",
        "\n",
        "for word in set(word_count):\n",
        "    count = word_count.count(word)\n",
        "    print(f\"The word {word}: count = {count}\")"
      ],
      "metadata": {
        "colab": {
          "base_uri": "https://localhost:8080/"
        },
        "id": "3JFXkATVydCK",
        "outputId": "b730465c-c7d0-4375-bda4-063c2bdbc70d"
      },
      "execution_count": 7,
      "outputs": [
        {
          "output_type": "stream",
          "name": "stdout",
          "text": [
            "The word This: count = 2\n",
            "The word used: count = 1\n",
            "The word will: count = 1\n",
            "The word demonstrate: count = 1\n",
            "The word sample: count = 1\n",
            "The word text: count = 1\n",
            "The word word: count = 1\n",
            "The word counter.: count = 1\n",
            "The word text.: count = 1\n",
            "The word be: count = 1\n",
            "The word to: count = 1\n",
            "The word a: count = 1\n",
            "The word is: count = 1\n",
            "The word the: count = 1\n"
          ]
        }
      ]
    },
    {
      "cell_type": "markdown",
      "source": [
        "# Exercise 5: Check for Palindrome"
      ],
      "metadata": {
        "id": "NBl4PuVI7Eqn"
      }
    },
    {
      "cell_type": "code",
      "source": [
        "word=input(\"Enter The word :\")\n",
        "if word[::-1] == word:\n",
        "  print(f\"{word} The word is palindrome \")\n",
        "else:\n",
        "  print(f\"{word} The word is not palindrome\")"
      ],
      "metadata": {
        "id": "9523zpY33CAA",
        "colab": {
          "base_uri": "https://localhost:8080/"
        },
        "outputId": "be71b61e-b426-4bea-9310-ee97621b4a4e"
      },
      "execution_count": 3,
      "outputs": [
        {
          "output_type": "stream",
          "name": "stdout",
          "text": [
            "Enter The word :malayalam\n",
            "malayalam The word is palindrome \n"
          ]
        }
      ]
    },
    {
      "cell_type": "code",
      "source": [],
      "metadata": {
        "id": "MFekhCux6TQr"
      },
      "execution_count": null,
      "outputs": []
    }
  ]
}